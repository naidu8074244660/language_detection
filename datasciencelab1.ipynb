{
  "nbformat": 4,
  "nbformat_minor": 0,
  "metadata": {
    "colab": {
      "provenance": [],
      "authorship_tag": "ABX9TyP89yTb4bhwLA8yvYx0osmA",
      "include_colab_link": true
    },
    "kernelspec": {
      "name": "python3",
      "display_name": "Python 3"
    },
    "language_info": {
      "name": "python"
    }
  },
  "cells": [
    {
      "cell_type": "markdown",
      "metadata": {
        "id": "view-in-github",
        "colab_type": "text"
      },
      "source": [
        "<a href=\"https://colab.research.google.com/github/naidu8074244660/language_detection/blob/main/datasciencelab1.ipynb\" target=\"_parent\"><img src=\"https://colab.research.google.com/assets/colab-badge.svg\" alt=\"Open In Colab\"/></a>"
      ]
    },
    {
      "cell_type": "code",
      "execution_count": 1,
      "metadata": {
        "colab": {
          "base_uri": "https://localhost:8080/"
        },
        "id": "-0pLJG9n3ptE",
        "outputId": "c160c808-b316-4d30-f7be-47f19536a1e4"
      },
      "outputs": [
        {
          "output_type": "stream",
          "name": "stdout",
          "text": [
            "The factorial of 7 is 5040\n"
          ]
        }
      ],
      "source": [
        "\n",
        "def recur_factorial(n):\n",
        "   if n == 1:\n",
        "       return n\n",
        "   else:\n",
        "       return n*recur_factorial(n-1)\n",
        "\n",
        "num = 7\n",
        "if num < 0:\n",
        "   print(\"Sorry, factorial does not exist for negative numbers\")\n",
        "elif num == 0:\n",
        "   print(\"The factorial of 0 is 1\")\n",
        "else:\n",
        "   print(\"The factorial of\", num, \"is\", recur_factorial(num))\n"
      ]
    },
    {
      "cell_type": "code",
      "source": [
        "class FactorialCalculator:\n",
        "    def __init__(self, number):\n",
        "        self.number = number\n",
        "\n",
        "    def calculate_factorial(self):\n",
        "        factorial = 1\n",
        "        for i in range(1, self.number + 1):\n",
        "            factorial *= i\n",
        "        return factorial\n",
        "\n",
        "number_to_calculate = 5\n",
        "calculator = FactorialCalculator(number_to_calculate\n",
        "print(f\"The factorial of {number_to_calculate} is {calculator.calculate_factorial()}\")\n"
      ],
      "metadata": {
        "colab": {
          "base_uri": "https://localhost:8080/"
        },
        "id": "54UcsXSv4z0Y",
        "outputId": "f7fd20c1-5640-4e04-a7c8-6aaf87e71dd2"
      },
      "execution_count": 2,
      "outputs": [
        {
          "output_type": "stream",
          "name": "stdout",
          "text": [
            "The factorial of 5 is 120\n"
          ]
        }
      ]
    }
  ]
}